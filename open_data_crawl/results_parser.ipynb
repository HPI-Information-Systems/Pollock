{
 "cells": [
  {
   "cell_type": "code",
   "execution_count": 35,
   "metadata": {
    "collapsed": true
   },
   "outputs": [],
   "source": [
    "import json\n",
    "import pandas as pd\n",
    "import os\n",
    "\n",
    "#read all json files in the folder \"raw_data\" and store them in a list\n",
    "json_files = [pos_json for pos_json in os.listdir('raw_data') if pos_json.endswith('.json')]\n",
    "data = []\n",
    "for file in json_files:\n",
    "    with open(os.path.join('raw_data', file)) as f:\n",
    "        data.append(json.load(f))"
   ]
  },
  {
   "cell_type": "code",
   "execution_count": 60,
   "outputs": [
    {
     "name": "stdout",
     "output_type": "stream",
     "text": [
      "                       Argentina  Australia   Brazil   Canada   Chile  \\\n",
      "                             3.0        0.0      0.0      0.0     0.0   \n",
      "/ csv                        0.0        0.0      0.0      0.0     0.0   \n",
      "/ pdf                        0.0        0.0      0.0      0.0     0.0   \n",
      "00                           0.0        0.0      0.0      0.0     0.0   \n",
      "01 / 2015 / csv              0.0        0.0      0.0      0.0     0.0   \n",
      "...                          ...        ...      ...      ...     ...   \n",
      "zip, contiene archi..        0.0        0.0      0.0      0.0     4.0   \n",
      "zip-kml                      0.0        0.0      0.0      0.0     0.0   \n",
      "zip/csv                      0.0        0.0      0.0      0.0     0.0   \n",
      "zip/spreadsheet              0.0        0.0      0.0      0.0     0.0   \n",
      "total                     5583.0   132979.0  39662.0  81506.0  4951.0   \n",
      "\n",
      "                       Germany  Ghana    Japan   Mexico  Morocco  New Zealand  \\\n",
      "                       10686.0    0.0      0.0      0.0      0.0          0.0   \n",
      "/ csv                      0.0    0.0      0.0      0.0      0.0          0.0   \n",
      "/ pdf                      0.0    0.0      0.0      0.0      0.0          0.0   \n",
      "00                         0.0    0.0      0.0      0.0      0.0          0.0   \n",
      "01 / 2015 / csv            0.0    0.0      0.0      0.0      0.0          0.0   \n",
      "...                        ...    ...      ...      ...      ...          ...   \n",
      "zip, contiene archi..      0.0    0.0      0.0      0.0      0.0          0.0   \n",
      "zip-kml                    0.0    0.0      0.0      0.0      0.0          0.0   \n",
      "zip/csv                    0.0    0.0      0.0      0.0      0.0         16.0   \n",
      "zip/spreadsheet            0.0    0.0      0.0      0.0      0.0         10.0   \n",
      "total                  87630.0  306.0  28490.0  11466.0    405.0     168459.0   \n",
      "\n",
      "                       Pakistan   Russia  Somalia     Spain  United Kingdom  \\\n",
      "                            0.0      0.0      0.0       0.0         26837.0   \n",
      "/ csv                       0.0      0.0      0.0       0.0             1.0   \n",
      "/ pdf                       0.0      0.0      0.0       0.0             1.0   \n",
      "00                          0.0      0.0      0.0       0.0             0.0   \n",
      "01 / 2015 / csv             0.0      0.0      0.0       0.0             9.0   \n",
      "...                         ...      ...      ...       ...             ...   \n",
      "zip, contiene archi..       0.0      0.0      0.0       0.0             0.0   \n",
      "zip-kml                     0.0      0.0      0.0       0.0             1.0   \n",
      "zip/csv                     0.0      0.0      0.0       0.0             0.0   \n",
      "zip/spreadsheet             0.0      0.0      0.0       0.0             0.0   \n",
      "total                     419.0  27132.0     12.0  199601.0        203076.0   \n",
      "\n",
      "                            USA  \n",
      "                            0.0  \n",
      "/ csv                       0.0  \n",
      "/ pdf                       0.0  \n",
      "00                        174.0  \n",
      "01 / 2015 / csv             0.0  \n",
      "...                         ...  \n",
      "zip, contiene archi..       0.0  \n",
      "zip-kml                     0.0  \n",
      "zip/csv                     0.0  \n",
      "zip/spreadsheet             0.0  \n",
      "total                  659361.0  \n",
      "\n",
      "[426 rows x 17 columns]\n"
     ]
    }
   ],
   "source": [
    "def normalize(string):\n",
    "    ret = string.strip()\n",
    "    ret = string.lower()\n",
    "    if ret.startswith(\".\"):\n",
    "        ret = ret[1:]\n",
    "    if ret.endswith(\".\"):\n",
    "        ret = ret[:-1]\n",
    "    return ret.strip()\n",
    "\n",
    "# for every file in the list, extract the data and store it in a dataframe\n",
    "df = pd.DataFrame()\n",
    "for dict_formats in data:\n",
    "    norm_dict = {}\n",
    "    # normalize all keys to lowercase and merge the values summing them\n",
    "    for key, value in dict_formats.items():\n",
    "        if type(value) == int:\n",
    "            norm_dict[normalize(key)] = norm_dict.get(normalize(key), 0) + value\n",
    "        elif key not in (\"country\", \"source\"):\n",
    "            norm_dict[key] = value\n",
    "    # add keys of the dictionary as rows of the dataframe\n",
    "    country_df = pd.DataFrame(pd.Series(norm_dict).astype(int), columns=[dict_formats[\"country\"]])\n",
    "    df = df.join(country_df, how='outer')\n",
    "\n",
    "# change df nan values as 0\n",
    "df = df.fillna(0)\n",
    "df.loc[\"total\"] = df.drop([\"num_datasets\"],axis=0).sum()\n",
    "print(df)"
   ],
   "metadata": {
    "collapsed": false
   }
  },
  {
   "cell_type": "markdown",
   "source": [
    "§Results of analysis: please note that the format label are in general not exclusive: a dataset can be marked \"csv, json\" and therefore contain both \"csv\" and \"json\" files.\n",
    "The labels are therefore indicative of the how many datasets contain a given format, but not of the number of files for each format."
   ],
   "metadata": {
    "collapsed": false
   }
  },
  {
   "cell_type": "code",
   "execution_count": 66,
   "outputs": [
    {
     "name": "stdout",
     "output_type": "stream",
     "text": [
      "                 Overall  Percentage\n",
      "total            1651038    2.105749\n",
      "num_datasets      784062    1.000000\n",
      "html              326446    0.416352\n",
      "csv               245594    0.313233\n",
      "pdf               151053    0.192654\n",
      "...                  ...         ...\n",
      "esri geoservice        1    0.000001\n",
      "esri shape             1    0.000001\n",
      "excell                 1    0.000001\n",
      "feb 2015 / csv         1    0.000001\n",
      "04 / 2015 / csv        1    0.000001\n",
      "\n",
      "[426 rows x 2 columns]\n"
     ]
    }
   ],
   "source": [
    "# Overall analysis\n",
    "new_df = pd.DataFrame()\n",
    "new_df['Overall'] = df.sum(axis=1).astype(int)\n",
    "new_df[\"Percentage\"] = new_df[\"Overall\"] / new_df[\"Overall\"][\"num_datasets\"]\n",
    "\n",
    "# sum all rows except six with most value and add them as a new row\n",
    "# new_df.loc[\"all_others\"] = new_df.drop([\"num_datasets\",\"total\",\"html\",\"csv\",\"pdf\", \"xml\", \"json\",\"zip\"],axis=0).sum()\n",
    "\n",
    "# print(new_df.drop([\"num_datasets\",\"total\",\"html\",\"csv\",\"pdf\", \"xml\", \"json\",\"zip\"],axis=0).sort_values(by=\"Overall\", ascending=False))\n",
    "# print(sorted(set(new_df.index)))\n",
    "\n",
    "print(new_df[[\"Overall\",\"Percentage\"]].sort_values(by=\"Overall\", ascending=False))\n",
    "# print(sorted(set(new_df.drop([\"num_datasets\",\"total\", \"html\",\"csv\",\"pdf\", \"xml\", \"json\",\"zip\"],axis=0).index)))"
   ],
   "metadata": {
    "collapsed": false
   }
  },
  {
   "cell_type": "markdown",
   "source": [
    "Results of the analysis:\n",
    " We surveyed 17 open data portals from all five continents.\n",
    " In our survey, out of 784,062 publicly available datasets, the five most common formats are:\n",
    "  - html : 326,446 (41.63\\%)\n",
    "  - csv: 245,594 (31.32\\%)\n",
    "  - pdf: 151,053 (19.26\\%)\n",
    "  - xml: 128,452 (16.38\\%)\n",
    "  - json: 65,008\n",
    "     - (8.29\\%)\n",
    "\n"
   ],
   "metadata": {
    "collapsed": false
   }
  }
 ],
 "metadata": {
  "kernelspec": {
   "display_name": "Python 3",
   "language": "python",
   "name": "python3"
  },
  "language_info": {
   "codemirror_mode": {
    "name": "ipython",
    "version": 2
   },
   "file_extension": ".py",
   "mimetype": "text/x-python",
   "name": "python",
   "nbconvert_exporter": "python",
   "pygments_lexer": "ipython2",
   "version": "2.7.6"
  }
 },
 "nbformat": 4,
 "nbformat_minor": 0
}
